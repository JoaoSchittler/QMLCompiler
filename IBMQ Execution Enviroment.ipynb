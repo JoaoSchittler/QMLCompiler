{
 "cells": [
  {
   "cell_type": "code",
   "execution_count": 1,
   "id": "ea44d8ee",
   "metadata": {
    "scrolled": true
   },
   "outputs": [],
   "source": [
    "from qiskit import *\n",
    "import numpy as np\n",
    "import math\n",
    "%matplotlib inline"
   ]
  },
  {
   "cell_type": "code",
   "execution_count": 2,
   "id": "6dd485c6",
   "metadata": {
    "scrolled": true
   },
   "outputs": [
    {
     "name": "stderr",
     "output_type": "stream",
     "text": [
      "C:\\ProgramData\\Anaconda3\\lib\\site-packages\\qiskit\\aqua\\__init__.py:86: DeprecationWarning: The package qiskit.aqua is deprecated. It was moved/refactored to qiskit-terra For more information see <https://github.com/Qiskit/qiskit-aqua/blob/main/README.md#migration-guide>\n",
      "  warn_package('aqua', 'qiskit-terra')\n"
     ]
    },
    {
     "data": {
      "text/plain": [
       "{'qiskit-terra': '0.18.3', 'qiskit-aer': '0.9.1', 'qiskit-ignis': '0.6.0', 'qiskit-ibmq-provider': '0.17.0', 'qiskit-aqua': '0.9.5', 'qiskit': '0.31.0', 'qiskit-nature': None, 'qiskit-finance': None, 'qiskit-optimization': None, 'qiskit-machine-learning': None}"
      ]
     },
     "execution_count": 2,
     "metadata": {},
     "output_type": "execute_result"
    }
   ],
   "source": [
    "qiskit.__qiskit_version__"
   ]
  },
  {
   "cell_type": "code",
   "execution_count": 3,
   "id": "755a2353",
   "metadata": {},
   "outputs": [],
   "source": [
    "from qiskit import IBMQ\n",
    "token = 'a60b945e66d6a6fc057a0a9a4bab3d5361cccd28f2a57f34d7b65584cc2d8b3f6c5de57a105b7f2721b5ca5abc32a0075e97e3f42e06276c294fc0c6f141c7e7'\n",
    "IBMQ.save_account(token,overwrite=True)"
   ]
  },
  {
   "cell_type": "code",
   "execution_count": 4,
   "id": "fe2aa9c5",
   "metadata": {},
   "outputs": [
    {
     "data": {
      "text/plain": [
       "<AccountProvider for IBMQ(hub='ibm-q', group='open', project='main')>"
      ]
     },
     "execution_count": 4,
     "metadata": {},
     "output_type": "execute_result"
    }
   ],
   "source": [
    "IBMQ.load_account()"
   ]
  },
  {
   "cell_type": "code",
   "execution_count": 5,
   "id": "37db1c6c",
   "metadata": {},
   "outputs": [],
   "source": [
    "def AddOperationToCircuit(Line,Circuit,QRegs,CRegs):\n",
    "    operation = Line[0]\n",
    "    fargs = []\n",
    "    args = []\n",
    "    for arg in range(1,len(Line)):\n",
    "        fargs.append(float(Line[arg]))\n",
    "        args.append(math.floor(float(Line[arg])))\n",
    "    if operation == \"U3\":\n",
    "        Circuit.u(fargs[1],fargs[2],fargs[3],QRegs[args[0]])\n",
    "    elif operation == \"CU3\":\n",
    "        Circuit.cu(fargs[2],fargs[3],fargs[4],0.0,QRegs[args[0]],QRegs[args[1]])\n",
    "    elif operation == \"SWAP\":\n",
    "        Circuit.swap(QRegs[args[0]],QRegs[args[1]])\n",
    "    elif operation == \"CSWAP\":\n",
    "        Circuit.cswap(QRegs[args[0]],QRegs[args[1]],QRegs[args[2]])\n",
    "    \n",
    "    elif operation == \"NOT\":\n",
    "        Circuit.x(QRegs[args[0]])\n",
    "    elif operation == \"CNOT\":\n",
    "        Circuit.cx(QRegs[args[0]],QRegs[args[1]])\n",
    "    elif operation == \"CCNOT\":\n",
    "        Circuit.ccx(QRegs[args[0]],QRegs[args[1]],QRegs[args[2]])\n",
    "    elif operation == \"Measure\":\n",
    "        Circuit.measure(QRegs[args[0]],CRegs[args[0]])"
   ]
  },
  {
   "cell_type": "code",
   "execution_count": 6,
   "id": "502110c4",
   "metadata": {},
   "outputs": [],
   "source": [
    "def ReadCompiledCircuit(FileName):\n",
    "    file = open(FileName,'r')\n",
    "    qBitNum = file.read(2)[0]\n",
    "    qBitNum = int(qBitNum)\n",
    "    print(str(qBitNum)+\" Qbits\")\n",
    "    quantumRegisters = QuantumRegister(qBitNum)\n",
    "    classicalRegisters = ClassicalRegister(qBitNum)\n",
    "    compiledCircuit = QuantumCircuit(quantumRegisters,classicalRegisters)\n",
    "    for line in file:\n",
    "        lineArray = line.split()\n",
    "        AddOperationToCircuit\\\n",
    "        (lineArray,compiledCircuit,quantumRegisters,classicalRegisters)\n",
    "    return compiledCircuit\n",
    "        \n",
    "nShots = 8192"
   ]
  },
  {
   "cell_type": "code",
   "execution_count": 7,
   "id": "6e1cf6da",
   "metadata": {
    "scrolled": false
   },
   "outputs": [
    {
     "name": "stdout",
     "output_type": "stream",
     "text": [
      "4 Qbits\n"
     ]
    },
    {
     "data": {
      "image/png": "[encoded data removed]",
      "text/plain": [
       "<Figure size 761.778x325.08 with 1 Axes>"
      ]
     },
     "execution_count": 7,
     "metadata": {},
     "output_type": "execute_result"
    }
   ],
   "source": [
    "QCircuit = ReadCompiledCircuit('circuit.txt')\n",
    "QCircuit.draw(output = 'mpl')"
   ]
  },
  {
   "cell_type": "code",
   "execution_count": 8,
   "id": "98aca65a",
   "metadata": {},
   "outputs": [
    {
     "data": {
      "image/png": "[encoded data removed]",
      "text/plain": [
       "<Figure size 504x360 with 1 Axes>"
      ]
     },
     "execution_count": 8,
     "metadata": {},
     "output_type": "execute_result"
    }
   ],
   "source": [
    "#Usar simulador\n",
    "from qiskit.tools.visualization import plot_histogram\n",
    "from qiskit import Aer\n",
    "simulator = Aer.get_backend('qasm_simulator')\n",
    "job = simulator.run(QCircuit,nShots)\n",
    "result = job.result()\n",
    "plot_histogram(result.get_counts(QCircuit))"
   ]
  },
  {
   "cell_type": "code",
   "execution_count": null,
   "id": "ba38ae5d",
   "metadata": {},
   "outputs": [],
   "source": [
    "#Usar provider\n",
    "#provider = IBMQ.get_provider(hub = 'ibm-q-research-2', group = 'federal-uni-sant-1', project = 'main')\n",
    "provider = IBMQ.get_provider('ibm-q')\n",
    "qcomputer = provider.get_backend('ibmq_belem')\n",
    "job = execute(QCircuit, backend = qcomputer, shots = nShots)\n",
    "result = job.result()\n",
    "plot_histogram(result.get_counts(QCircuit))"
   ]
  },
  {
   "cell_type": "code",
   "execution_count": null,
   "id": "7588eaa9",
   "metadata": {},
   "outputs": [],
   "source": []
  }
 ],
 "metadata": {
  "kernelspec": {
   "display_name": "Python 3",
   "language": "python",
   "name": "python3"
  },
  "language_info": {
   "codemirror_mode": {
    "name": "ipython",
    "version": 3
   },
   "file_extension": ".py",
   "mimetype": "text/x-python",
   "name": "python",
   "nbconvert_exporter": "python",
   "pygments_lexer": "ipython3",
   "version": "3.8.8"
  }
 },
 "nbformat": 4,
 "nbformat_minor": 5
}
